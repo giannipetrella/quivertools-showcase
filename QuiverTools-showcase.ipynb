{
 "cells": [
  {
   "cell_type": "markdown",
   "metadata": {},
   "source": [
    "# QuiverTools showcase"
   ]
  },
  {
   "cell_type": "markdown",
   "metadata": {},
   "source": [
    "First, we install QuiverTools.jl in a clean environment."
   ]
  },
  {
   "cell_type": "code",
   "execution_count": 41,
   "metadata": {},
   "outputs": [
    {
     "name": "stderr",
     "output_type": "stream",
     "text": [
      "\u001b[32m\u001b[1m  Activating\u001b[22m\u001b[39m project at `~/Documents/notes/quivertools-showcase/QuiverTools-showcase`\n"
     ]
    }
   ],
   "source": [
    "using Pkg;\n",
    "Pkg.activate(\"QuiverTools-showcase\")\n",
    "# Pkg.add(url=\"https://github.com/QuiverTools/QuiverTools.jl\")\n",
    "using QuiverTools"
   ]
  },
  {
   "cell_type": "code",
   "execution_count": 71,
   "metadata": {},
   "outputs": [
    {
     "data": {
      "text/plain": [
       "3-Kronecker quiver, with adjacency matrix [0 3; 0 0]"
      ]
     },
     "metadata": {},
     "output_type": "display_data"
    }
   ],
   "source": [
    "Q = mKronecker_quiver(3)"
   ]
  },
  {
   "cell_type": "code",
   "execution_count": 72,
   "metadata": {},
   "outputs": [
    {
     "name": "stdout",
     "output_type": "stream",
     "text": [
      "Adjacency matrix: [0 3; 0 0]\n",
      "arrows: [[1, 2], [1, 2], [1, 2]]\n",
      "Number of vertices: 2\n",
      "Number of arrows: 3\n"
     ]
    }
   ],
   "source": [
    "println(\"Adjacency matrix: \", Q.adjacency)\n",
    "println(\"arrows: \", arrows(Q))\n",
    "println(\"Number of vertices: \", nvertices(Q))\n",
    "println(\"Number of arrows: \", narrows(Q))"
   ]
  },
  {
   "cell_type": "markdown",
   "metadata": {},
   "source": [
    "### Basic functionalities of directed graphs are implemented"
   ]
  },
  {
   "cell_type": "code",
   "execution_count": 73,
   "metadata": {},
   "outputs": [
    {
     "data": {
      "text/plain": [
       "true"
      ]
     },
     "metadata": {},
     "output_type": "display_data"
    }
   ],
   "source": [
    "is_connected(Q)"
   ]
  },
  {
   "cell_type": "code",
   "execution_count": 74,
   "metadata": {},
   "outputs": [
    {
     "data": {
      "text/plain": [
       "true"
      ]
     },
     "metadata": {},
     "output_type": "display_data"
    }
   ],
   "source": [
    "is_acyclic(Q)"
   ]
  },
  {
   "cell_type": "code",
   "execution_count": 75,
   "metadata": {},
   "outputs": [
    {
     "name": "stdout",
     "output_type": "stream",
     "text": [
      "Matrix of the Euler form: [1 -3; 0 1]\n"
     ]
    },
    {
     "data": {
      "text/plain": [
       "-5"
      ]
     },
     "metadata": {},
     "output_type": "display_data"
    }
   ],
   "source": [
    "println(\"Matrix of the Euler form: \",QuiverTools.Euler_matrix(Q))\n",
    "Euler_form(Q, [2, 3], [2, 3])"
   ]
  },
  {
   "cell_type": "markdown",
   "metadata": {},
   "source": [
    "### We construct a QuiverModuli object"
   ]
  },
  {
   "cell_type": "code",
   "execution_count": 76,
   "metadata": {},
   "outputs": [
    {
     "data": {
      "text/plain": [
       "Moduli space of semistable representations of 3-Kronecker quiver, with adjacency matrix [0 3; 0 0]\n",
       "      with dimension vector [2, 3] and stability parameter [9, -6]"
      ]
     },
     "metadata": {},
     "output_type": "display_data"
    }
   ],
   "source": [
    "M = QuiverModuliSpace(Q, [2, 3])"
   ]
  },
  {
   "cell_type": "markdown",
   "metadata": {},
   "source": [
    "### We can compute the Hodge polynomial, as well as the Poincaré polynomial of a given quiver moduli:"
   ]
  },
  {
   "cell_type": "code",
   "execution_count": 77,
   "metadata": {},
   "outputs": [
    {
     "data": {
      "text/html": [
       "x^6*y^6 + x^5*y^5 + 3*x^4*y^4 + 3*x^3*y^3 + 3*x^2*y^2 + x*y + 1"
      ],
      "text/latex": [
       "x^{6} y^{6} + x^{5} y^{5} + 3 x^{4} y^{4} + 3 x^{3} y^{3} + 3 x^{2} y^{2} + x y + 1"
      ],
      "text/plain": [
       "x^6*y^6 + x^5*y^5 + 3*x^4*y^4 + 3*x^3*y^3 + 3*x^2*y^2 + x*y + 1"
      ]
     },
     "metadata": {},
     "output_type": "display_data"
    }
   ],
   "source": [
    "H = Hodge_polynomial(M)"
   ]
  },
  {
   "cell_type": "code",
   "execution_count": 78,
   "metadata": {},
   "outputs": [
    {
     "data": {
      "text/plain": [
       "6"
      ]
     },
     "metadata": {},
     "output_type": "display_data"
    }
   ],
   "source": [
    "dimension(M)"
   ]
  },
  {
   "cell_type": "code",
   "execution_count": 79,
   "metadata": {},
   "outputs": [
    {
     "data": {
      "text/html": [
       "L^6 + L^5 + 3*L^4 + 3*L^3 + 3*L^2 + L + 1"
      ],
      "text/latex": [
       "L^{6} + L^{5} + 3 L^{4} + 3 L^{3} + 3 L^{2} + L + 1"
      ],
      "text/plain": [
       "L^6 + L^5 + 3*L^4 + 3*L^3 + 3*L^2 + L + 1"
      ]
     },
     "metadata": {},
     "output_type": "display_data"
    }
   ],
   "source": [
    "P = Poincare_polynomial(M)"
   ]
  },
  {
   "cell_type": "code",
   "execution_count": 80,
   "metadata": {},
   "outputs": [
    {
     "name": "stdout",
     "output_type": "stream",
     "text": [
      "Picard rank: 1\n",
      "Index: 3\n"
     ]
    }
   ],
   "source": [
    "println(\"Picard rank: \",Picard_rank(M))\n",
    "println(\"Index: \",index(M))"
   ]
  },
  {
   "cell_type": "markdown",
   "metadata": {},
   "source": [
    "### We can study the unstable locus of the parameter space:"
   ]
  },
  {
   "cell_type": "code",
   "execution_count": 89,
   "metadata": {},
   "outputs": [
    {
     "data": {
      "text/plain": [
       "8-element Vector{Vector{AbstractVector{Int64}}}:\n",
       " [[2, 3]]\n",
       " [[1, 1], [1, 2]]\n",
       " [[2, 2], [0, 1]]\n",
       " [[2, 1], [0, 2]]\n",
       " [[1, 0], [1, 3]]\n",
       " [[1, 0], [1, 2], [0, 1]]\n",
       " [[1, 0], [1, 1], [0, 2]]\n",
       " [[2, 0], [0, 3]]"
      ]
     },
     "metadata": {},
     "output_type": "display_data"
    }
   ],
   "source": [
    "Q = mKronecker_quiver(3); M = QuiverModuliSpace(Q, [2, 3], [3, -2]);\n",
    "all_HN_types(M)"
   ]
  },
  {
   "cell_type": "code",
   "execution_count": 87,
   "metadata": {},
   "outputs": [
    {
     "data": {
      "text/plain": [
       "7-element Vector{Vector{AbstractVector{Int64}}}:\n",
       " [[1, 0], [1, 3]]\n",
       " [[1, 0], [1, 1], [0, 2]]\n",
       " [[1, 0], [1, 2], [0, 1]]\n",
       " [[2, 0], [0, 3]]\n",
       " [[1, 1], [1, 2]]\n",
       " [[2, 1], [0, 2]]\n",
       " [[2, 2], [0, 1]]"
      ]
     },
     "metadata": {},
     "output_type": "display_data"
    }
   ],
   "source": [
    "# slightly improves performance\n",
    "all_HN_types(M, unstable=true, ordered=false)"
   ]
  },
  {
   "cell_type": "code",
   "execution_count": 88,
   "metadata": {},
   "outputs": [
    {
     "data": {
      "text/plain": [
       "Dict{Vector{AbstractVector{Int64}}, Int64} with 7 entries:\n",
       "  [[2, 2], [0, 1]]         => 60\n",
       "  [[2, 1], [0, 2]]         => 100\n",
       "  [[1, 0], [1, 2], [0, 1]] => 100\n",
       "  [[1, 0], [1, 3]]         => 360\n",
       "  [[1, 0], [1, 1], [0, 2]] => 270\n",
       "  [[1, 1], [1, 2]]         => 15\n",
       "  [[2, 0], [0, 3]]         => 270"
      ]
     },
     "metadata": {},
     "output_type": "display_data"
    }
   ],
   "source": [
    "all_Teleman_bounds(M)"
   ]
  },
  {
   "cell_type": "code",
   "execution_count": 39,
   "metadata": {},
   "outputs": [
    {
     "data": {
      "text/plain": [
       "Dict{Vector{AbstractVector{Int64}}, Vector{Int64}} with 7 entries:\n",
       "  [[2, 2], [0, 1]]         => [0, 15, -15, 0]\n",
       "  [[2, 1], [0, 2]]         => [0, 10, -10, 0]\n",
       "  [[1, 0], [1, 2], [0, 1]] => [0, 10, 15, -10, 0, 5, -15, -5, 0]\n",
       "  [[1, 0], [1, 3]]         => [0, 45, -45, 0]\n",
       "  [[1, 0], [1, 1], [0, 2]] => [0, 15, 30, -15, 0, 15, -30, -15, 0]\n",
       "  [[1, 1], [1, 2]]         => [0, 5, -5, 0]\n",
       "  [[2, 0], [0, 3]]         => [0, 15, -15, 0]"
      ]
     },
     "metadata": {},
     "output_type": "display_data"
    }
   ],
   "source": [
    "all_weights_endomorphisms_universal_bundle(M)"
   ]
  },
  {
   "cell_type": "code",
   "execution_count": null,
   "metadata": {},
   "outputs": [],
   "source": []
  }
 ],
 "metadata": {
  "kernelspec": {
   "display_name": "Julia 1.10.4",
   "language": "julia",
   "name": "julia-1.10"
  },
  "language_info": {
   "file_extension": ".jl",
   "mimetype": "application/julia",
   "name": "julia",
   "version": "1.10.4"
  }
 },
 "nbformat": 4,
 "nbformat_minor": 2
}
