{
 "cells": [
  {
   "cell_type": "markdown",
   "metadata": {},
   "source": [
    "# QuiverTools showcase"
   ]
  },
  {
   "cell_type": "markdown",
   "metadata": {},
   "source": [
    "First, we install QuiverTools.jl in a clean environment."
   ]
  },
  {
   "cell_type": "code",
   "execution_count": null,
   "metadata": {},
   "outputs": [],
   "source": [
    "using Pkg;\n",
    "Pkg.activate(\"QuiverTools-showcase\")"
   ]
  },
  {
   "cell_type": "code",
   "execution_count": null,
   "metadata": {},
   "outputs": [],
   "source": [
    "# Pkg.add(url=\"https://github.com/QuiverTools/QuiverTools.jl\")"
   ]
  },
  {
   "cell_type": "code",
   "execution_count": null,
   "metadata": {},
   "outputs": [],
   "source": [
    "using QuiverTools"
   ]
  },
  {
   "cell_type": "code",
   "execution_count": null,
   "metadata": {},
   "outputs": [],
   "source": [
    "Q = mKronecker_quiver(3)"
   ]
  },
  {
   "cell_type": "code",
   "execution_count": null,
   "metadata": {},
   "outputs": [],
   "source": [
    "println(\"Adjacency matrix: \", Q.adjacency)\n",
    "println(\"arrows: \", arrows(Q))\n",
    "println(\"Number of vertices: \", nvertices(Q))\n",
    "println(\"Number of arrows: \", narrows(Q))"
   ]
  },
  {
   "cell_type": "markdown",
   "metadata": {},
   "source": [
    "### Basic functionalities of directed graphs are implemented"
   ]
  },
  {
   "cell_type": "code",
   "execution_count": null,
   "metadata": {},
   "outputs": [],
   "source": [
    "is_connected(Q)"
   ]
  },
  {
   "cell_type": "code",
   "execution_count": null,
   "metadata": {},
   "outputs": [],
   "source": [
    "is_acyclic(Q)"
   ]
  },
  {
   "cell_type": "markdown",
   "metadata": {},
   "source": [
    "On any quiver one can define the bilinear Euler form."
   ]
  },
  {
   "cell_type": "code",
   "execution_count": null,
   "metadata": {},
   "outputs": [],
   "source": [
    "println(\"Matrix of the Euler form: \",QuiverTools.Euler_matrix(Q))\n",
    "Euler_form(Q, [2, 3], [2, 3])"
   ]
  },
  {
   "cell_type": "markdown",
   "metadata": {},
   "source": [
    "## We construct a QuiverModuli object and analyze some basic properties of it"
   ]
  },
  {
   "cell_type": "code",
   "execution_count": null,
   "metadata": {},
   "outputs": [],
   "source": [
    "M = QuiverModuliSpace(Q, [2, 3])"
   ]
  },
  {
   "cell_type": "code",
   "execution_count": null,
   "metadata": {},
   "outputs": [],
   "source": [
    "is_projective(M)"
   ]
  },
  {
   "cell_type": "code",
   "execution_count": null,
   "metadata": {},
   "outputs": [],
   "source": [
    "is_smooth(M)"
   ]
  },
  {
   "cell_type": "code",
   "execution_count": null,
   "metadata": {},
   "outputs": [],
   "source": [
    "dimension(M)"
   ]
  },
  {
   "cell_type": "markdown",
   "metadata": {},
   "source": [
    "## We can compute the Hodge polynomial, as well as the Poincaré polynomial of a given quiver moduli:"
   ]
  },
  {
   "cell_type": "code",
   "execution_count": null,
   "metadata": {},
   "outputs": [],
   "source": [
    "H = Hodge_polynomial(M)"
   ]
  },
  {
   "cell_type": "code",
   "execution_count": null,
   "metadata": {},
   "outputs": [],
   "source": [
    "Hodge_diamond(M)"
   ]
  },
  {
   "cell_type": "code",
   "execution_count": null,
   "metadata": {},
   "outputs": [],
   "source": [
    "P = Poincare_polynomial(M)"
   ]
  },
  {
   "cell_type": "code",
   "execution_count": null,
   "metadata": {},
   "outputs": [],
   "source": [
    "Betti_numbers(M) == [1, 0, 1, 0, 3, 0, 3, 0, 3, 0, 1, 0, 1]"
   ]
  },
  {
   "cell_type": "code",
   "execution_count": null,
   "metadata": {},
   "outputs": [],
   "source": [
    "println(\"Picard rank: \", Picard_rank(M))\n",
    "println(\"Index: \", index(M))"
   ]
  },
  {
   "cell_type": "markdown",
   "metadata": {},
   "source": [
    "## We can study the unstable locus of the parameter space:"
   ]
  },
  {
   "cell_type": "code",
   "execution_count": null,
   "metadata": {},
   "outputs": [],
   "source": [
    "HN = all_HN_types(M, unstable=true)"
   ]
  },
  {
   "cell_type": "markdown",
   "metadata": {},
   "source": [
    "# Teleman quantization"
   ]
  },
  {
   "cell_type": "markdown",
   "metadata": {},
   "source": [
    "For each HN type $\\mathbf{d}^*$, we compute the upper bound of the Teleman inequality $\\eta_{\\mathbf{d}^*}$"
   ]
  },
  {
   "cell_type": "code",
   "execution_count": null,
   "metadata": {},
   "outputs": [],
   "source": [
    "η = all_Teleman_bounds(M)"
   ]
  },
  {
   "cell_type": "markdown",
   "metadata": {},
   "source": [
    "We can compute the weights $W(\\mathcal{U}^{\\vee}_i \\otimes \\mathcal{U}_j, \\mathbf{d}^*)$ for every HN stratum as well:"
   ]
  },
  {
   "cell_type": "code",
   "execution_count": null,
   "metadata": {},
   "outputs": [],
   "source": [
    "W = all_weights_endomorphisms_universal_bundle(M)"
   ]
  },
  {
   "cell_type": "markdown",
   "metadata": {},
   "source": [
    "... And we can verify the inequality."
   ]
  },
  {
   "cell_type": "code",
   "execution_count": null,
   "metadata": {},
   "outputs": [],
   "source": [
    "all(maximum(W[hntype]) < η[hntype] for hntype in HN)"
   ]
  },
  {
   "cell_type": "markdown",
   "metadata": {},
   "source": [
    "# Semiorthogonal decompositions"
   ]
  },
  {
   "cell_type": "markdown",
   "metadata": {},
   "source": [
    "## Checking Teleman inequalities for SOD"
   ]
  },
  {
   "cell_type": "code",
   "execution_count": null,
   "metadata": {},
   "outputs": [],
   "source": [
    "Q = mKronecker_quiver(3);\n",
    "d = [2, 3];\n",
    "M = QuiverModuliSpace(Q, d, [9, -6]);\n",
    "HN = all_HN_types(M, unstable=true);\n",
    "n = dimension(M);"
   ]
  },
  {
   "cell_type": "code",
   "execution_count": null,
   "metadata": {},
   "outputs": [],
   "source": [
    "r = index(M)"
   ]
  },
  {
   "cell_type": "code",
   "execution_count": null,
   "metadata": {},
   "outputs": [],
   "source": [
    "η = all_Teleman_bounds(M);\n",
    "\n",
    "H = all_weights_irreducible_component_canonical(M);\n",
    "for hntype in HN\n",
    "    H[hntype] *= -1\n",
    "end\n",
    "H"
   ]
  },
  {
   "cell_type": "code",
   "execution_count": null,
   "metadata": {},
   "outputs": [],
   "source": [
    "chi = [-1, 1];\n",
    "Ui = all_weights_universal_bundle(M, chi)"
   ]
  },
  {
   "cell_type": "code",
   "execution_count": null,
   "metadata": {},
   "outputs": [],
   "source": [
    "UidualUj = all_weights_endomorphisms_universal_bundle(M)"
   ]
  },
  {
   "cell_type": "code",
   "execution_count": null,
   "metadata": {},
   "outputs": [],
   "source": [
    "println(all(maximum(UidualUj[hntype]) - H[hntype] < η[hntype] for hntype in HN))\n",
    "\n",
    "println(all(maximum(-Ui[hntype]) - H[hntype] < η[hntype] for hntype in HN))\n",
    "\n",
    "println(all(-H[hntype] < η[hntype] for hntype in HN))\n",
    "\n",
    "for twist in 0:r-2\n",
    "    println(all(maximum(Ui[hntype]) - twist * H[hntype] < η[hntype] for hntype in HN))\n",
    " end"
   ]
  },
  {
   "cell_type": "markdown",
   "metadata": {},
   "source": [
    "... therefore, all the necessary higher cohomologies vanish!"
   ]
  },
  {
   "cell_type": "markdown",
   "metadata": {},
   "source": [
    "## Checking Euler characteristic vanishing for SOD"
   ]
  },
  {
   "cell_type": "markdown",
   "metadata": {},
   "source": [
    "The canonical bundle is given by $\\sum_{i \\in Q_0}(\\langle\\mathbf{d}, \\mathbf{i}\\rangle - \\langle\\mathbf{i}, \\mathbf{d}\\rangle)\\cdot x_{i, 1}$, where the $x_{i, j}$ are the generators of the Chow ring [cf. *Fano quiver moduli*, Franzen--Reineke--Sabatini]."
   ]
  },
  {
   "cell_type": "code",
   "execution_count": null,
   "metadata": {},
   "outputs": [],
   "source": [
    "CH, CHvars = Chow_ring(M)"
   ]
  },
  {
   "cell_type": "code",
   "execution_count": null,
   "metadata": {},
   "outputs": [],
   "source": [
    "QuiverTools.quotient_ideal(CH)"
   ]
  },
  {
   "cell_type": "code",
   "execution_count": null,
   "metadata": {},
   "outputs": [],
   "source": [
    "println(\"Todd class :\", Todd_class(M))\n",
    "println(\"Point class: \", point_class(M))"
   ]
  },
  {
   "cell_type": "markdown",
   "metadata": {},
   "source": [
    "### We can use the methods above to compute the Euler characteristic of a vector bundle, given its Chern character."
   ]
  },
  {
   "cell_type": "markdown",
   "metadata": {},
   "source": [
    "The first Chern class of the canonical divisor"
   ]
  },
  {
   "cell_type": "code",
   "execution_count": null,
   "metadata": {},
   "outputs": [],
   "source": [
    "ω = (Euler_form(Q, d, [1, 0]) - Euler_form(Q, [1, 0], d)) * CHvars[1] +\n",
    "    (Euler_form(Q, d, [0, 1]) - Euler_form(Q, [0, 1], d)) * CHvars[3]"
   ]
  },
  {
   "cell_type": "markdown",
   "metadata": {},
   "source": [
    "The Chern character of a line bundle $\\mathcal{L}$ with $c_1(\\mathcal{L}) = a$ is given by $e^a = \\sum_{k \\in \\mathbb{N}} \\frac{a^k}{x!}$."
   ]
  },
  {
   "cell_type": "code",
   "execution_count": null,
   "metadata": {},
   "outputs": [],
   "source": [
    "truncated_exp(x, n) = sum(x^i/factorial(i) for i in 0:n)\n",
    "\n",
    "Hbundle = truncated_exp(-1//r * ω, n)\n",
    "Hbundle_dual = truncated_exp(1//r * ω, n)"
   ]
  },
  {
   "cell_type": "markdown",
   "metadata": {},
   "source": [
    "The bundles $\\mathcal{U}_i$ are not of rank 1, so their Chern characters are a bit more complicated."
   ]
  },
  {
   "cell_type": "code",
   "execution_count": null,
   "metadata": {},
   "outputs": [],
   "source": [
    "x11, x12, x21, x22, x23 = CHvars;\n",
    "\n",
    "u1     = 2 + x21 + 1//2*x11^2 - x12 + 1//6*x11*x12 - 1//2*x23 - 1//8*x23*x11 + 1//12*x12^2 - 1//80 * x23*x12 - 1//720 * x23^2;\n",
    "u1star = 2 - x21 + 1//2*x11^2 - x12 - 1//6*x11*x12 + 1//2*x23 - 1//8*x23*x11 + 1//12*x12^2 + 1//80 * x23*x12 - 1//720 * x23^2;\n",
    "\n",
    "u2     = 3 + x11 + 1//2*x11^2 - x22 - 1//2*x22*x11 + 2//3*x11*x12 + 1//8*x23*x11 + 1//12*x22*x12 - 1//4*x12^2 + 1//120*x23*x12;\n",
    "u2star = 3 - x11 + 1//2*x11^2 - x22 + 1//2*x22*x11 - 2//3*x11*x12 + 1//8*x23*x11 + 1//12*x22*x12 - 1//4*x12^2 - 1//120*x23*x12;\n",
    "\n",
    "bundles = [u1, u2];\n",
    "dual_bundles = [u1star, u2star];"
   ]
  },
  {
   "cell_type": "markdown",
   "metadata": {},
   "source": [
    "As an example, we can see that the integral of the universal family over the moduli space vanishes:"
   ]
  },
  {
   "cell_type": "code",
   "execution_count": null,
   "metadata": {},
   "outputs": [],
   "source": [
    "integral(M, u1 + u2)"
   ]
  },
  {
   "cell_type": "markdown",
   "metadata": {},
   "source": [
    "### We compute the Euler characteristics that we need"
   ]
  },
  {
   "cell_type": "code",
   "execution_count": null,
   "metadata": {},
   "outputs": [],
   "source": [
    "m = 3\n",
    "for s in 1:m-1\n",
    "    println([integral(M, u*v*Hbundle_dual^s) for u in dual_bundles for v in bundles])\n",
    "    println([integral(M, u*Hbundle_dual^s) for u in dual_bundles])\n",
    "    println([integral(M, Hbundle_dual^s)])\n",
    "\n",
    "end\n",
    "println([integral(M, u) for u in bundles])\n",
    "println([integral(M, u*Hbundle_dual) for u in bundles])"
   ]
  },
  {
   "cell_type": "markdown",
   "metadata": {},
   "source": [
    "... therefore, all the necessary degree-zero cohomologies vanish as well!"
   ]
  }
 ],
 "metadata": {
  "kernelspec": {
   "display_name": "Julia 1.10.4",
   "language": "julia",
   "name": "julia-1.10"
  },
  "language_info": {
   "file_extension": ".jl",
   "mimetype": "application/julia",
   "name": "julia",
   "version": "1.10.4"
  }
 },
 "nbformat": 4,
 "nbformat_minor": 2
}
